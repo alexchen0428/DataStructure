{
 "cells": [
  {
   "cell_type": "code",
   "execution_count": 1,
   "metadata": {},
   "outputs": [],
   "source": [
    "import sys\n",
    "import random\n",
    "import os\n",
    "import time"
   ]
  },
  {
   "cell_type": "code",
   "execution_count": 7,
   "metadata": {},
   "outputs": [
    {
     "name": "stdout",
     "output_type": "stream",
     "text": [
      "Cases00\n",
      "Cases01\n",
      "Cases02\n",
      "Cases03\n",
      "Cases04\n",
      "Cases10\n",
      "Cases11\n",
      "Cases12\n",
      "Cases13\n",
      "Cases14\n",
      "Cases20\n",
      "Cases21\n",
      "Cases22\n",
      "Cases23\n",
      "Cases24\n",
      "Cases30\n",
      "Cases31\n",
      "Cases32\n",
      "Cases33\n",
      "Cases34\n",
      "Cases40\n",
      "Cases41\n",
      "Cases42\n",
      "Cases43\n",
      "Cases44\n",
      "Cases50\n",
      "Cases51\n",
      "Cases52\n",
      "Cases53\n",
      "Cases54\n"
     ]
    }
   ],
   "source": [
    "TEST_SIZE = 6\n",
    "PER_SIZE = 5\n",
    "INT_MAX = 100;\n",
    "size = [1, 300, 600, 900, 1200, 1500]\n",
    "if __name__ == \"__main__\":\n",
    "    dirname = '../inputs'\n",
    "    if not os.path.exists(dirname):\n",
    "        os.makedirs(dirname)\n",
    "    for cases in range(TEST_SIZE):\n",
    "        for i in range(PER_SIZE):\n",
    "            filename = '../inputs/{}{}.in'.format(cases, i)\n",
    "            with open(filename, 'w') as w:\n",
    "                n = size[cases]\n",
    "                w.write(str(n) + '\\n' + str(n) + '\\n')\n",
    "                w.write('0 0\\n')\n",
    "                w.write(str(n-1) + ' ' + str(n-1) + '\\n')\n",
    "                for x in range(n):\n",
    "                    for y in range(n):\n",
    "                        w.write(str(random.randint(0, INT_MAX-1)) + ' ')\n",
    "                    w.write('\\n')\n",
    "            print(\"Cases{}{}\".format(cases, i))"
   ]
  },
  {
   "cell_type": "code",
   "execution_count": null,
   "metadata": {},
   "outputs": [],
   "source": []
  }
 ],
 "metadata": {
  "kernelspec": {
   "display_name": "Python 3",
   "language": "python",
   "name": "python3"
  },
  "language_info": {
   "codemirror_mode": {
    "name": "ipython",
    "version": 3
   },
   "file_extension": ".py",
   "mimetype": "text/x-python",
   "name": "python",
   "nbconvert_exporter": "python",
   "pygments_lexer": "ipython3",
   "version": "3.6.6"
  }
 },
 "nbformat": 4,
 "nbformat_minor": 2
}
